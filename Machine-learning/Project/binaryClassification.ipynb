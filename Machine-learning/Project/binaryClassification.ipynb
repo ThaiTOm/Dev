{
    "cells": [
        {
            "cell_type": "code",
            "execution_count": 3,
            "source": [
                "from sklearn.datasets import fetch_openml\n",
                "import numpy as np \n",
                "import matplotlib as mpl\n",
                "import matplotlib.pyplot as plt\n",
                "\n",
                "mnist = fetch_openml(\"mnist_784\", version = 1)\n",
                "x, y = mnist[\"data\"], mnist[\"target\"]\n",
                "\n",
                "some_digit = x[0]\n",
                "some_digit_image = some_digit.reshape(28, 28)\n",
                "\n",
                "y = y.astype(np.uint8)\n",
                "x_train, x_test, y_train, y_test = x[:60000], x[60000:], y[:60000], y[60000]\n"
            ],
            "outputs": [],
            "metadata": {}
        },
        {
            "cell_type": "code",
            "execution_count": null,
            "source": [],
            "outputs": [],
            "metadata": {}
        }
    ],
    "metadata": {
        "orig_nbformat": 4,
        "language_info": {
            "name": "python",
            "version": "3.8.8",
            "mimetype": "text/x-python",
            "codemirror_mode": {
                "name": "ipython",
                "version": 3
            },
            "pygments_lexer": "ipython3",
            "nbconvert_exporter": "python",
            "file_extension": ".py"
        },
        "kernelspec": {
            "name": "python3",
            "display_name": "Python 3.8.8 64-bit ('base': conda)"
        },
        "interpreter": {
            "hash": "95410b4f19f0146f5911cd11045252d30d892712e1a01ff8cedbf09b39da74e9"
        }
    },
    "nbformat": 4,
    "nbformat_minor": 2
}